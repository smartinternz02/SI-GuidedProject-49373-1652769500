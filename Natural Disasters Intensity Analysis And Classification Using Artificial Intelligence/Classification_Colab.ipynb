{
  "cells": [
    {
      "cell_type": "code",
      "execution_count": null,
      "metadata": {
        "id": "7tWuwgTTYUev"
      },
      "outputs": [],
      "source": [
        "import tensorflow"
      ]
    },
    {
      "cell_type": "code",
      "execution_count": null,
      "metadata": {
        "id": "m7aUKS2vY0xS"
      },
      "outputs": [],
      "source": [
        "from keras.preprocessing.image import ImageDataGenerator\n",
        "from keras.models import Sequential\n",
        "from keras.layers import Dense, Flatten\n",
        "from keras.layers import Conv2D, MaxPool2D\n",
        "from tensorflow.keras import layers\n",
        "from keras.layers import Dropout\n",
        "from keras.models import load_model\n",
        "import numpy as np"
      ]
    },
    {
      "cell_type": "code",
      "execution_count": null,
      "metadata": {
        "id": "tHFlKJAMdtxx"
      },
      "outputs": [],
      "source": [
        "train_datagen = ImageDataGenerator(rescale=1./255,shear_range=0.2,zoom_range=0.2,horizontal_flip=True)\n",
        "\n",
        "test_datagen = ImageDataGenerator(rescale=1./255)"
      ]
    },
    {
      "cell_type": "code",
      "execution_count": null,
      "metadata": {
        "colab": {
          "base_uri": "https://localhost:8080/"
        },
        "id": "kXM12YUHar5I",
        "outputId": "518b2cbb-9385-4ba1-851c-2c669cd6f7bb"
      },
      "outputs": [
        {
          "name": "stdout",
          "output_type": "stream",
          "text": [
            "Archive:  /content/drive/MyDrive/dataset.zip\n",
            "replace dataset/dataset/readme.txt? [y]es, [n]o, [A]ll, [N]one, [r]ename: No\n"
          ]
        }
      ],
      "source": [
        "!unzip /content/drive/MyDrive/dataset.zip"
      ]
    },
    {
      "cell_type": "code",
      "execution_count": null,
      "metadata": {
        "colab": {
          "base_uri": "https://localhost:8080/"
        },
        "id": "APbgph51d14m",
        "outputId": "9b70ef43-f92d-48d3-d6d9-cf107906052f"
      },
      "outputs": [
        {
          "name": "stdout",
          "output_type": "stream",
          "text": [
            "Found 742 images belonging to 4 classes.\n",
            "Found 198 images belonging to 4 classes.\n"
          ]
        }
      ],
      "source": [
        "train_ds = train_datagen.flow_from_directory('/content/dataset/dataset/train_set', target_size=(64, 64), class_mode='categorical', batch_size=5, color_mode='rgb')\n",
        "\n",
        "test_ds = train_datagen.flow_from_directory('/content/dataset/dataset/test_set', target_size=(64, 64), class_mode='categorical', batch_size=5, color_mode='rgb')\n"
      ]
    },
    {
      "cell_type": "code",
      "execution_count": null,
      "metadata": {
        "id": "aEqQCH4QhOs3"
      },
      "outputs": [],
      "source": [
        "model = Sequential()"
      ]
    },
    {
      "cell_type": "code",
      "execution_count": null,
      "metadata": {
        "id": "Hc4YmxyLhVej"
      },
      "outputs": [],
      "source": [
        "model.add(Conv2D(32,(3,3), input_shape=(64, 64, 3), activation='relu'))\n",
        "model.add(MaxPool2D(2,2))\n",
        "model.add(Dropout(0.2))\n",
        "model.add(Conv2D(32,(3,3), activation='relu'))\n",
        "model.add(MaxPool2D(2,2))\n",
        "model.add(Dropout(0.3))\n",
        "model.add(Flatten())\n",
        "model.add(Dense(128, activation='relu'))\n",
        "model.add(Dropout(0.5))\n",
        "model.add(Dense(4, activation='softmax'))"
      ]
    },
    {
      "cell_type": "code",
      "execution_count": null,
      "metadata": {
        "colab": {
          "base_uri": "https://localhost:8080/"
        },
        "id": "wCao3nfr9wJM",
        "outputId": "3314bd55-5427-49fd-b1f2-668a23a06c95"
      },
      "outputs": [
        {
          "name": "stdout",
          "output_type": "stream",
          "text": [
            "Model: \"sequential_4\"\n",
            "_________________________________________________________________\n",
            " Layer (type)                Output Shape              Param #   \n",
            "=================================================================\n",
            " conv2d_14 (Conv2D)          (None, 62, 62, 32)        896       \n",
            "                                                                 \n",
            " max_pooling2d_8 (MaxPooling  (None, 31, 31, 32)       0         \n",
            " 2D)                                                             \n",
            "                                                                 \n",
            " dropout_6 (Dropout)         (None, 31, 31, 32)        0         \n",
            "                                                                 \n",
            " conv2d_15 (Conv2D)          (None, 29, 29, 32)        9248      \n",
            "                                                                 \n",
            " max_pooling2d_9 (MaxPooling  (None, 14, 14, 32)       0         \n",
            " 2D)                                                             \n",
            "                                                                 \n",
            " dropout_7 (Dropout)         (None, 14, 14, 32)        0         \n",
            "                                                                 \n",
            " flatten_4 (Flatten)         (None, 6272)              0         \n",
            "                                                                 \n",
            " dense_8 (Dense)             (None, 128)               802944    \n",
            "                                                                 \n",
            " dropout_8 (Dropout)         (None, 128)               0         \n",
            "                                                                 \n",
            " dense_9 (Dense)             (None, 4)                 516       \n",
            "                                                                 \n",
            "=================================================================\n",
            "Total params: 813,604\n",
            "Trainable params: 813,604\n",
            "Non-trainable params: 0\n",
            "_________________________________________________________________\n"
          ]
        }
      ],
      "source": [
        "model.summary()"
      ]
    },
    {
      "cell_type": "code",
      "execution_count": null,
      "metadata": {
        "id": "FZNfA8g417Vv"
      },
      "outputs": [],
      "source": [
        "model.compile(optimizer='adam', loss='categorical_crossentropy', metrics=['accuracy'])\n"
      ]
    },
    {
      "cell_type": "code",
      "execution_count": null,
      "metadata": {
        "colab": {
          "base_uri": "https://localhost:8080/"
        },
        "id": "raSVmbBb2Esv",
        "outputId": "56a8783e-c60f-478e-acaf-d6225be99e15"
      },
      "outputs": [
        {
          "name": "stdout",
          "output_type": "stream",
          "text": [
            "Epoch 1/20\n",
            "149/149 [==============================] - 39s 253ms/step - loss: 1.3123 - accuracy: 0.3935 - val_loss: 1.3493 - val_accuracy: 0.5051\n",
            "Epoch 2/20\n",
            "149/149 [==============================] - 41s 279ms/step - loss: 1.0249 - accuracy: 0.5755 - val_loss: 1.0871 - val_accuracy: 0.6566\n",
            "Epoch 3/20\n",
            "149/149 [==============================] - 37s 251ms/step - loss: 0.8701 - accuracy: 0.6361 - val_loss: 0.8340 - val_accuracy: 0.7020\n",
            "Epoch 4/20\n",
            "149/149 [==============================] - 37s 251ms/step - loss: 0.7824 - accuracy: 0.6995 - val_loss: 0.8529 - val_accuracy: 0.6515\n",
            "Epoch 5/20\n",
            "149/149 [==============================] - 37s 251ms/step - loss: 0.7633 - accuracy: 0.6846 - val_loss: 0.6689 - val_accuracy: 0.7778\n",
            "Epoch 6/20\n",
            "149/149 [==============================] - 41s 276ms/step - loss: 0.6763 - accuracy: 0.7237 - val_loss: 0.7427 - val_accuracy: 0.7374\n",
            "Epoch 7/20\n",
            "149/149 [==============================] - 38s 251ms/step - loss: 0.6223 - accuracy: 0.7682 - val_loss: 0.5990 - val_accuracy: 0.7626\n",
            "Epoch 8/20\n",
            "149/149 [==============================] - 37s 252ms/step - loss: 0.6299 - accuracy: 0.7655 - val_loss: 0.6223 - val_accuracy: 0.7475\n",
            "Epoch 9/20\n",
            "149/149 [==============================] - 37s 252ms/step - loss: 0.5392 - accuracy: 0.7938 - val_loss: 0.5909 - val_accuracy: 0.7828\n",
            "Epoch 10/20\n",
            "149/149 [==============================] - 38s 254ms/step - loss: 0.5585 - accuracy: 0.7884 - val_loss: 0.6139 - val_accuracy: 0.7626\n",
            "Epoch 11/20\n",
            "149/149 [==============================] - 38s 253ms/step - loss: 0.5417 - accuracy: 0.7925 - val_loss: 0.6088 - val_accuracy: 0.7576\n",
            "Epoch 12/20\n",
            "149/149 [==============================] - 37s 251ms/step - loss: 0.5414 - accuracy: 0.8113 - val_loss: 0.6042 - val_accuracy: 0.7778\n",
            "Epoch 13/20\n",
            "149/149 [==============================] - 41s 277ms/step - loss: 0.4915 - accuracy: 0.7898 - val_loss: 0.5116 - val_accuracy: 0.8030\n",
            "Epoch 14/20\n",
            "149/149 [==============================] - 37s 251ms/step - loss: 0.5000 - accuracy: 0.8140 - val_loss: 0.6450 - val_accuracy: 0.7828\n",
            "Epoch 15/20\n",
            "149/149 [==============================] - 37s 252ms/step - loss: 0.4717 - accuracy: 0.8302 - val_loss: 0.6110 - val_accuracy: 0.8030\n",
            "Epoch 16/20\n",
            "149/149 [==============================] - 37s 250ms/step - loss: 0.4885 - accuracy: 0.8248 - val_loss: 0.5515 - val_accuracy: 0.8081\n",
            "Epoch 17/20\n",
            "149/149 [==============================] - 37s 251ms/step - loss: 0.4262 - accuracy: 0.8477 - val_loss: 0.5570 - val_accuracy: 0.7879\n",
            "Epoch 18/20\n",
            "149/149 [==============================] - 37s 248ms/step - loss: 0.3548 - accuracy: 0.8625 - val_loss: 1.0120 - val_accuracy: 0.7071\n",
            "Epoch 19/20\n",
            "149/149 [==============================] - 37s 250ms/step - loss: 0.4310 - accuracy: 0.8477 - val_loss: 0.5373 - val_accuracy: 0.8081\n",
            "Epoch 20/20\n",
            "149/149 [==============================] - 37s 250ms/step - loss: 0.3731 - accuracy: 0.8814 - val_loss: 0.5746 - val_accuracy: 0.8182\n"
          ]
        }
      ],
      "source": [
        "history = model.fit(train_ds,\n",
        "                    steps_per_epoch = len(train_ds),\n",
        "                    epochs = 20,\n",
        "                    validation_data = test_ds,\n",
        "                    validation_steps = len(test_ds))\n",
        "    "
      ]
    },
    {
      "cell_type": "code",
      "execution_count": null,
      "metadata": {
        "id": "abrztU9g3q6k"
      },
      "outputs": [],
      "source": [
        "model.save('model.h5')"
      ]
    },
    {
      "cell_type": "code",
      "execution_count": null,
      "metadata": {
        "colab": {
          "base_uri": "https://localhost:8080/"
        },
        "id": "iOtxNuUG3wUf",
        "outputId": "76d2ab38-4a0b-421a-b9fc-b1dee8836234"
      },
      "outputs": [
        {
          "name": "stdout",
          "output_type": "stream",
          "text": [
            "40/40 [==============================] - 7s 171ms/step - loss: 0.5965 - accuracy: 0.8030\n"
          ]
        }
      ],
      "source": [
        "result = model.evaluate(test_ds)"
      ]
    },
    {
      "cell_type": "code",
      "execution_count": null,
      "metadata": {
        "colab": {
          "base_uri": "https://localhost:8080/",
          "height": 428
        },
        "id": "v947v5Eu34rP",
        "outputId": "e9241398-2aa0-422d-e50d-c3ca058c70a2"
      },
      "outputs": [
        {
          "data": {
            "image/png": "[encoded data removed]",
            "text/plain": [
              "<Figure size 720x504 with 1 Axes>"
            ]
          },
          "metadata": {
            "needs_background": "light"
          },
          "output_type": "display_data"
        }
      ],
      "source": [
        "import pandas as pd\n",
        "pd.DataFrame(history.history).plot(figsize=(10, 7));"
      ]
    },
    {
      "cell_type": "code",
      "execution_count": null,
      "metadata": {
        "id": "-UZfrH0X4uSa"
      },
      "outputs": [],
      "source": [
        "from keras.preprocessing import image"
      ]
    },
    {
      "cell_type": "code",
      "execution_count": null,
      "metadata": {
        "id": "bzrrcOql451v"
      },
      "outputs": [],
      "source": [
        "model = load_model('model.h5')"
      ]
    },
    {
      "cell_type": "code",
      "execution_count": null,
      "metadata": {
        "colab": {
          "base_uri": "https://localhost:8080/",
          "height": 81
        },
        "id": "l6qdlilu4_Nf",
        "outputId": "9dbfc0d3-ea86-432e-a0ef-a69c62892b1e"
      },
      "outputs": [
        {
          "data": {
            "image/png": "[encoded data removed]",
            "text/plain": [
              "<PIL.Image.Image image mode=RGB size=64x64 at 0x7FCD35C4CB10>"
            ]
          },
          "execution_count": 64,
          "metadata": {},
          "output_type": "execute_result"
        }
      ],
      "source": [
        "img = image.load_img(\"/content/dataset/dataset/test_set/Flood/1015.jpg\", target_size = (64, 64))\n",
        "img"
      ]
    },
    {
      "cell_type": "code",
      "execution_count": null,
      "metadata": {
        "colab": {
          "base_uri": "https://localhost:8080/"
        },
        "id": "HuyMvWPPE35G",
        "outputId": "4a1f1706-91a7-4379-9966-b99aa2c27d88"
      },
      "outputs": [
        {
          "data": {
            "text/plain": [
              "array([2])"
            ]
          },
          "execution_count": 65,
          "metadata": {},
          "output_type": "execute_result"
        }
      ],
      "source": [
        "x = image.img_to_array(img)\n",
        "x = np.expand_dims(x, axis = 0)\n",
        "pred = np.argmax(model.predict(x), axis=-1)\n",
        "pred"
      ]
    },
    {
      "cell_type": "code",
      "execution_count": null,
      "metadata": {
        "colab": {
          "base_uri": "https://localhost:8080/"
        },
        "id": "4y81fPI_5u9U",
        "outputId": "224313c1-710b-4a51-db16-27b281a2b669"
      },
      "outputs": [
        {
          "data": {
            "text/plain": [
              "array('Flood', dtype='<U5')"
            ]
          },
          "execution_count": 66,
          "metadata": {},
          "output_type": "execute_result"
        }
      ],
      "source": [
        "index = ['Cyclone', 'Earthquake', 'Flood', 'WildFire']\n",
        "result = np.array(index[pred[0]])\n",
        "result"
      ]
    }
  ],
  "metadata": {
    "colab": {
      "name": "Classification-Colab.ipynb",
      "provenance": []
    },
    "kernelspec": {
      "display_name": "Python 3",
      "language": "python",
      "name": "python3"
    },
    "language_info": {
      "codemirror_mode": {
        "name": "ipython",
        "version": 3
      },
      "file_extension": ".py",
      "mimetype": "text/x-python",
      "name": "python",
      "nbconvert_exporter": "python",
      "pygments_lexer": "ipython3",
      "version": "3.8.8"
    }
  },
  "nbformat": 4,
  "nbformat_minor": 0
}